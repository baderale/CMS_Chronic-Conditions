{
 "cells": [
  {
   "cell_type": "code",
   "execution_count": 1,
   "metadata": {},
   "outputs": [],
   "source": [
    "import pandas as pd"
   ]
  },
  {
   "cell_type": "code",
   "execution_count": 6,
   "metadata": {},
   "outputs": [],
   "source": [
    "original_df = pd.read_csv('C:/Users/Bader Ale/Desktop/CC_R20_P08_v10_D18_WWDSE_Cond.csv')"
   ]
  },
  {
   "cell_type": "code",
   "execution_count": 7,
   "metadata": {},
   "outputs": [
    {
     "data": {
      "text/html": [
       "<div>\n",
       "<style scoped>\n",
       "    .dataframe tbody tr th:only-of-type {\n",
       "        vertical-align: middle;\n",
       "    }\n",
       "\n",
       "    .dataframe tbody tr th {\n",
       "        vertical-align: top;\n",
       "    }\n",
       "\n",
       "    .dataframe thead th {\n",
       "        text-align: right;\n",
       "    }\n",
       "</style>\n",
       "<table border=\"1\" class=\"dataframe\">\n",
       "  <thead>\n",
       "    <tr style=\"text-align: right;\">\n",
       "      <th></th>\n",
       "      <th>Bene_Geo_Lvl</th>\n",
       "      <th>Bene_Geo_Desc</th>\n",
       "      <th>Bene_Geo_Cd</th>\n",
       "      <th>Bene_Age_Lvl</th>\n",
       "      <th>Bene_Demo_Lvl</th>\n",
       "      <th>Bene_Demo_Desc</th>\n",
       "      <th>Bene_Cond</th>\n",
       "      <th>Prvlnc</th>\n",
       "      <th>Tot_Mdcr_Stdzd_Pymt_PC</th>\n",
       "      <th>Tot_Mdcr_Pymt_PC</th>\n",
       "      <th>Hosp_Readmsn_Rate</th>\n",
       "      <th>ER_Visits_Per_1000_Benes</th>\n",
       "    </tr>\n",
       "  </thead>\n",
       "  <tbody>\n",
       "    <tr>\n",
       "      <th>0</th>\n",
       "      <td>State</td>\n",
       "      <td>Alabama</td>\n",
       "      <td>1.0</td>\n",
       "      <td>All</td>\n",
       "      <td>All</td>\n",
       "      <td>All</td>\n",
       "      <td>Alcohol Abuse</td>\n",
       "      <td>0.0188</td>\n",
       "      <td>25102.3405</td>\n",
       "      <td>23348.6039</td>\n",
       "      <td>0.2413</td>\n",
       "      <td>2184.7557</td>\n",
       "    </tr>\n",
       "    <tr>\n",
       "      <th>1</th>\n",
       "      <td>State</td>\n",
       "      <td>Alabama</td>\n",
       "      <td>1.0</td>\n",
       "      <td>65+</td>\n",
       "      <td>Dual Status</td>\n",
       "      <td>Medicare Only</td>\n",
       "      <td>Alcohol Abuse</td>\n",
       "      <td>0.0118</td>\n",
       "      <td>NaN</td>\n",
       "      <td>NaN</td>\n",
       "      <td>NaN</td>\n",
       "      <td>NaN</td>\n",
       "    </tr>\n",
       "    <tr>\n",
       "      <th>2</th>\n",
       "      <td>State</td>\n",
       "      <td>Alabama</td>\n",
       "      <td>1.0</td>\n",
       "      <td>&lt;65</td>\n",
       "      <td>Dual Status</td>\n",
       "      <td>Medicare Only</td>\n",
       "      <td>Alcohol Abuse</td>\n",
       "      <td>0.0320</td>\n",
       "      <td>NaN</td>\n",
       "      <td>NaN</td>\n",
       "      <td>NaN</td>\n",
       "      <td>NaN</td>\n",
       "    </tr>\n",
       "    <tr>\n",
       "      <th>3</th>\n",
       "      <td>State</td>\n",
       "      <td>Alabama</td>\n",
       "      <td>1.0</td>\n",
       "      <td>All</td>\n",
       "      <td>Dual Status</td>\n",
       "      <td>Medicare Only</td>\n",
       "      <td>Alcohol Abuse</td>\n",
       "      <td>0.0147</td>\n",
       "      <td>NaN</td>\n",
       "      <td>NaN</td>\n",
       "      <td>NaN</td>\n",
       "      <td>NaN</td>\n",
       "    </tr>\n",
       "    <tr>\n",
       "      <th>4</th>\n",
       "      <td>State</td>\n",
       "      <td>Alabama</td>\n",
       "      <td>1.0</td>\n",
       "      <td>65+</td>\n",
       "      <td>Dual Status</td>\n",
       "      <td>Medicare and Medicaid</td>\n",
       "      <td>Alcohol Abuse</td>\n",
       "      <td>0.0238</td>\n",
       "      <td>NaN</td>\n",
       "      <td>NaN</td>\n",
       "      <td>NaN</td>\n",
       "      <td>NaN</td>\n",
       "    </tr>\n",
       "  </tbody>\n",
       "</table>\n",
       "</div>"
      ],
      "text/plain": [
       "  Bene_Geo_Lvl Bene_Geo_Desc  Bene_Geo_Cd Bene_Age_Lvl Bene_Demo_Lvl  \\\n",
       "0        State       Alabama          1.0          All           All   \n",
       "1        State       Alabama          1.0          65+   Dual Status   \n",
       "2        State       Alabama          1.0          <65   Dual Status   \n",
       "3        State       Alabama          1.0          All   Dual Status   \n",
       "4        State       Alabama          1.0          65+   Dual Status   \n",
       "\n",
       "          Bene_Demo_Desc      Bene_Cond  Prvlnc  Tot_Mdcr_Stdzd_Pymt_PC  \\\n",
       "0                    All  Alcohol Abuse  0.0188              25102.3405   \n",
       "1          Medicare Only  Alcohol Abuse  0.0118                     NaN   \n",
       "2          Medicare Only  Alcohol Abuse  0.0320                     NaN   \n",
       "3          Medicare Only  Alcohol Abuse  0.0147                     NaN   \n",
       "4  Medicare and Medicaid  Alcohol Abuse  0.0238                     NaN   \n",
       "\n",
       "   Tot_Mdcr_Pymt_PC  Hosp_Readmsn_Rate  ER_Visits_Per_1000_Benes  \n",
       "0        23348.6039             0.2413                 2184.7557  \n",
       "1               NaN                NaN                       NaN  \n",
       "2               NaN                NaN                       NaN  \n",
       "3               NaN                NaN                       NaN  \n",
       "4               NaN                NaN                       NaN  "
      ]
     },
     "execution_count": 7,
     "metadata": {},
     "output_type": "execute_result"
    }
   ],
   "source": [
    "original_df.head(5)"
   ]
  },
  {
   "cell_type": "code",
   "execution_count": 8,
   "metadata": {},
   "outputs": [
    {
     "data": {
      "text/plain": [
       "(236124, 12)"
      ]
     },
     "execution_count": 8,
     "metadata": {},
     "output_type": "execute_result"
    }
   ],
   "source": [
    "original_df.shape"
   ]
  },
  {
   "cell_type": "code",
   "execution_count": 11,
   "metadata": {},
   "outputs": [
    {
     "data": {
      "text/plain": [
       "Index(['Bene_Geo_Lvl', 'Bene_Geo_Desc', 'Bene_Geo_Cd', 'Bene_Age_Lvl',\n",
       "       'Bene_Demo_Lvl', 'Bene_Demo_Desc', 'Bene_Cond', 'Prvlnc',\n",
       "       'Tot_Mdcr_Stdzd_Pymt_PC', 'Tot_Mdcr_Pymt_PC', 'Hosp_Readmsn_Rate',\n",
       "       'ER_Visits_Per_1000_Benes'],\n",
       "      dtype='object')"
      ]
     },
     "execution_count": 11,
     "metadata": {},
     "output_type": "execute_result"
    }
   ],
   "source": [
    "original_df.columns"
   ]
  },
  {
   "cell_type": "code",
   "execution_count": 21,
   "metadata": {},
   "outputs": [
    {
     "data": {
      "text/plain": [
       "array(['Alabama', 'Alabama', 'Alabama', ..., 'Unknown', 'Unknown',\n",
       "       'Unknown'], dtype=object)"
      ]
     },
     "execution_count": 21,
     "metadata": {},
     "output_type": "execute_result"
    }
   ],
   "source": [
    "original_df['Bene_Geo_Desc'].values\n"
   ]
  }
 ],
 "metadata": {
  "kernelspec": {
   "display_name": "base",
   "language": "python",
   "name": "python3"
  },
  "language_info": {
   "codemirror_mode": {
    "name": "ipython",
    "version": 3
   },
   "file_extension": ".py",
   "mimetype": "text/x-python",
   "name": "python",
   "nbconvert_exporter": "python",
   "pygments_lexer": "ipython3",
   "version": "3.9.13"
  },
  "orig_nbformat": 4
 },
 "nbformat": 4,
 "nbformat_minor": 2
}
