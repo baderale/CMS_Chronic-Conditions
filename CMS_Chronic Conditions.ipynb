{
 "cells": [
  {
   "attachments": {},
   "cell_type": "markdown",
   "metadata": {},
   "source": [
    "# Chronic Kidney Disease in Florida\n",
    "Here we will be investigating chronic kidney disease in Florida. The data being used is publicly available at CMS website."
   ]
  },
  {
   "cell_type": "code",
   "execution_count": 1,
   "metadata": {},
   "outputs": [],
   "source": [
    "# Importing libraries\n",
    "import pandas as pd\n",
    "import missingno as msno\n",
    "import seaborn as sns\n",
    "import matplotlib as plt\n",
    "pd.set_option('display.max_rows', 200) # Setting wider view"
   ]
  },
  {
   "cell_type": "code",
   "execution_count": 2,
   "metadata": {},
   "outputs": [],
   "source": [
    "# Reading in original CSV\n",
    "df = pd.read_csv('C:/Users/Bader Ale/Desktop/CC_R20_P08_v10_D18_WWDSE_Cond.csv')"
   ]
  },
  {
   "cell_type": "code",
   "execution_count": 3,
   "metadata": {},
   "outputs": [
    {
     "data": {
      "text/html": [
       "<div>\n",
       "<style scoped>\n",
       "    .dataframe tbody tr th:only-of-type {\n",
       "        vertical-align: middle;\n",
       "    }\n",
       "\n",
       "    .dataframe tbody tr th {\n",
       "        vertical-align: top;\n",
       "    }\n",
       "\n",
       "    .dataframe thead th {\n",
       "        text-align: right;\n",
       "    }\n",
       "</style>\n",
       "<table border=\"1\" class=\"dataframe\">\n",
       "  <thead>\n",
       "    <tr style=\"text-align: right;\">\n",
       "      <th></th>\n",
       "      <th>Bene_Geo_Lvl</th>\n",
       "      <th>Bene_Geo_Desc</th>\n",
       "      <th>Bene_Geo_Cd</th>\n",
       "      <th>Bene_Age_Lvl</th>\n",
       "      <th>Bene_Demo_Lvl</th>\n",
       "      <th>Bene_Demo_Desc</th>\n",
       "      <th>Bene_Cond</th>\n",
       "      <th>Prvlnc</th>\n",
       "      <th>Tot_Mdcr_Stdzd_Pymt_PC</th>\n",
       "      <th>Tot_Mdcr_Pymt_PC</th>\n",
       "      <th>Hosp_Readmsn_Rate</th>\n",
       "      <th>ER_Visits_Per_1000_Benes</th>\n",
       "    </tr>\n",
       "  </thead>\n",
       "  <tbody>\n",
       "    <tr>\n",
       "      <th>0</th>\n",
       "      <td>State</td>\n",
       "      <td>Alabama</td>\n",
       "      <td>1.0</td>\n",
       "      <td>All</td>\n",
       "      <td>All</td>\n",
       "      <td>All</td>\n",
       "      <td>Alcohol Abuse</td>\n",
       "      <td>0.0188</td>\n",
       "      <td>25102.3405</td>\n",
       "      <td>23348.6039</td>\n",
       "      <td>0.2413</td>\n",
       "      <td>2184.7557</td>\n",
       "    </tr>\n",
       "    <tr>\n",
       "      <th>1</th>\n",
       "      <td>State</td>\n",
       "      <td>Alabama</td>\n",
       "      <td>1.0</td>\n",
       "      <td>65+</td>\n",
       "      <td>Dual Status</td>\n",
       "      <td>Medicare Only</td>\n",
       "      <td>Alcohol Abuse</td>\n",
       "      <td>0.0118</td>\n",
       "      <td>NaN</td>\n",
       "      <td>NaN</td>\n",
       "      <td>NaN</td>\n",
       "      <td>NaN</td>\n",
       "    </tr>\n",
       "    <tr>\n",
       "      <th>2</th>\n",
       "      <td>State</td>\n",
       "      <td>Alabama</td>\n",
       "      <td>1.0</td>\n",
       "      <td>&lt;65</td>\n",
       "      <td>Dual Status</td>\n",
       "      <td>Medicare Only</td>\n",
       "      <td>Alcohol Abuse</td>\n",
       "      <td>0.0320</td>\n",
       "      <td>NaN</td>\n",
       "      <td>NaN</td>\n",
       "      <td>NaN</td>\n",
       "      <td>NaN</td>\n",
       "    </tr>\n",
       "    <tr>\n",
       "      <th>3</th>\n",
       "      <td>State</td>\n",
       "      <td>Alabama</td>\n",
       "      <td>1.0</td>\n",
       "      <td>All</td>\n",
       "      <td>Dual Status</td>\n",
       "      <td>Medicare Only</td>\n",
       "      <td>Alcohol Abuse</td>\n",
       "      <td>0.0147</td>\n",
       "      <td>NaN</td>\n",
       "      <td>NaN</td>\n",
       "      <td>NaN</td>\n",
       "      <td>NaN</td>\n",
       "    </tr>\n",
       "    <tr>\n",
       "      <th>4</th>\n",
       "      <td>State</td>\n",
       "      <td>Alabama</td>\n",
       "      <td>1.0</td>\n",
       "      <td>65+</td>\n",
       "      <td>Dual Status</td>\n",
       "      <td>Medicare and Medicaid</td>\n",
       "      <td>Alcohol Abuse</td>\n",
       "      <td>0.0238</td>\n",
       "      <td>NaN</td>\n",
       "      <td>NaN</td>\n",
       "      <td>NaN</td>\n",
       "      <td>NaN</td>\n",
       "    </tr>\n",
       "    <tr>\n",
       "      <th>5</th>\n",
       "      <td>State</td>\n",
       "      <td>Alabama</td>\n",
       "      <td>1.0</td>\n",
       "      <td>&lt;65</td>\n",
       "      <td>Dual Status</td>\n",
       "      <td>Medicare and Medicaid</td>\n",
       "      <td>Alcohol Abuse</td>\n",
       "      <td>0.0465</td>\n",
       "      <td>NaN</td>\n",
       "      <td>NaN</td>\n",
       "      <td>NaN</td>\n",
       "      <td>NaN</td>\n",
       "    </tr>\n",
       "    <tr>\n",
       "      <th>6</th>\n",
       "      <td>State</td>\n",
       "      <td>Alabama</td>\n",
       "      <td>1.0</td>\n",
       "      <td>All</td>\n",
       "      <td>Dual Status</td>\n",
       "      <td>Medicare and Medicaid</td>\n",
       "      <td>Alcohol Abuse</td>\n",
       "      <td>0.0347</td>\n",
       "      <td>NaN</td>\n",
       "      <td>NaN</td>\n",
       "      <td>NaN</td>\n",
       "      <td>NaN</td>\n",
       "    </tr>\n",
       "    <tr>\n",
       "      <th>7</th>\n",
       "      <td>State</td>\n",
       "      <td>Alabama</td>\n",
       "      <td>1.0</td>\n",
       "      <td>65+</td>\n",
       "      <td>Sex</td>\n",
       "      <td>Female</td>\n",
       "      <td>Alcohol Abuse</td>\n",
       "      <td>0.0058</td>\n",
       "      <td>NaN</td>\n",
       "      <td>NaN</td>\n",
       "      <td>NaN</td>\n",
       "      <td>NaN</td>\n",
       "    </tr>\n",
       "    <tr>\n",
       "      <th>8</th>\n",
       "      <td>State</td>\n",
       "      <td>Alabama</td>\n",
       "      <td>1.0</td>\n",
       "      <td>&lt;65</td>\n",
       "      <td>Sex</td>\n",
       "      <td>Female</td>\n",
       "      <td>Alcohol Abuse</td>\n",
       "      <td>0.0235</td>\n",
       "      <td>NaN</td>\n",
       "      <td>NaN</td>\n",
       "      <td>NaN</td>\n",
       "      <td>NaN</td>\n",
       "    </tr>\n",
       "    <tr>\n",
       "      <th>9</th>\n",
       "      <td>State</td>\n",
       "      <td>Alabama</td>\n",
       "      <td>1.0</td>\n",
       "      <td>All</td>\n",
       "      <td>Sex</td>\n",
       "      <td>Female</td>\n",
       "      <td>Alcohol Abuse</td>\n",
       "      <td>0.0092</td>\n",
       "      <td>NaN</td>\n",
       "      <td>NaN</td>\n",
       "      <td>NaN</td>\n",
       "      <td>NaN</td>\n",
       "    </tr>\n",
       "  </tbody>\n",
       "</table>\n",
       "</div>"
      ],
      "text/plain": [
       "  Bene_Geo_Lvl Bene_Geo_Desc  Bene_Geo_Cd Bene_Age_Lvl Bene_Demo_Lvl  \\\n",
       "0        State       Alabama          1.0          All           All   \n",
       "1        State       Alabama          1.0          65+   Dual Status   \n",
       "2        State       Alabama          1.0          <65   Dual Status   \n",
       "3        State       Alabama          1.0          All   Dual Status   \n",
       "4        State       Alabama          1.0          65+   Dual Status   \n",
       "5        State       Alabama          1.0          <65   Dual Status   \n",
       "6        State       Alabama          1.0          All   Dual Status   \n",
       "7        State       Alabama          1.0          65+           Sex   \n",
       "8        State       Alabama          1.0          <65           Sex   \n",
       "9        State       Alabama          1.0          All           Sex   \n",
       "\n",
       "          Bene_Demo_Desc      Bene_Cond  Prvlnc  Tot_Mdcr_Stdzd_Pymt_PC  \\\n",
       "0                    All  Alcohol Abuse  0.0188              25102.3405   \n",
       "1          Medicare Only  Alcohol Abuse  0.0118                     NaN   \n",
       "2          Medicare Only  Alcohol Abuse  0.0320                     NaN   \n",
       "3          Medicare Only  Alcohol Abuse  0.0147                     NaN   \n",
       "4  Medicare and Medicaid  Alcohol Abuse  0.0238                     NaN   \n",
       "5  Medicare and Medicaid  Alcohol Abuse  0.0465                     NaN   \n",
       "6  Medicare and Medicaid  Alcohol Abuse  0.0347                     NaN   \n",
       "7                 Female  Alcohol Abuse  0.0058                     NaN   \n",
       "8                 Female  Alcohol Abuse  0.0235                     NaN   \n",
       "9                 Female  Alcohol Abuse  0.0092                     NaN   \n",
       "\n",
       "   Tot_Mdcr_Pymt_PC  Hosp_Readmsn_Rate  ER_Visits_Per_1000_Benes  \n",
       "0        23348.6039             0.2413                 2184.7557  \n",
       "1               NaN                NaN                       NaN  \n",
       "2               NaN                NaN                       NaN  \n",
       "3               NaN                NaN                       NaN  \n",
       "4               NaN                NaN                       NaN  \n",
       "5               NaN                NaN                       NaN  \n",
       "6               NaN                NaN                       NaN  \n",
       "7               NaN                NaN                       NaN  \n",
       "8               NaN                NaN                       NaN  \n",
       "9               NaN                NaN                       NaN  "
      ]
     },
     "execution_count": 3,
     "metadata": {},
     "output_type": "execute_result"
    }
   ],
   "source": [
    "# Viewing first 10 records in dataset\n",
    "df.head(10)"
   ]
  },
  {
   "cell_type": "code",
   "execution_count": 4,
   "metadata": {},
   "outputs": [],
   "source": [
    "# Selecting only Florida and saving as new dataframe\n",
    "df_florida= df[df['Bene_Geo_Desc'] == 'Florida']"
   ]
  },
  {
   "cell_type": "code",
   "execution_count": 5,
   "metadata": {},
   "outputs": [
    {
     "data": {
      "text/plain": [
       "(630, 12)"
      ]
     },
     "execution_count": 5,
     "metadata": {},
     "output_type": "execute_result"
    }
   ],
   "source": [
    "# Checking the dimensionality of df_florida\n",
    "df_florida.shape"
   ]
  },
  {
   "attachments": {},
   "cell_type": "markdown",
   "metadata": {},
   "source": [
    "Dataframe _df_florida_ has a total of 12 columns and 630 records.\n",
    "\n",
    "Let's now check for any duplicated values."
   ]
  },
  {
   "cell_type": "code",
   "execution_count": 6,
   "metadata": {},
   "outputs": [
    {
     "data": {
      "text/plain": [
       "False    630\n",
       "dtype: int64"
      ]
     },
     "execution_count": 6,
     "metadata": {},
     "output_type": "execute_result"
    }
   ],
   "source": [
    "# Checking for duplicated values\n",
    "df_florida.duplicated().value_counts()"
   ]
  },
  {
   "attachments": {},
   "cell_type": "markdown",
   "metadata": {},
   "source": [
    "No duplicated values found. The next step is to address missing values."
   ]
  },
  {
   "cell_type": "code",
   "execution_count": null,
   "metadata": {},
   "outputs": [],
   "source": [
    "# Checking for missing values in Florida dataframe\n",
    "df_florida.isnull().sum()"
   ]
  },
  {
   "cell_type": "code",
   "execution_count": null,
   "metadata": {},
   "outputs": [],
   "source": [
    "df_florida['Bene_Cond'].value_counts()"
   ]
  },
  {
   "cell_type": "code",
   "execution_count": null,
   "metadata": {},
   "outputs": [],
   "source": [
    "df_fl_ckd = df_florida[df_florida['Bene_Cond'] == \"Chronic Kidney Disease\"]"
   ]
  },
  {
   "cell_type": "code",
   "execution_count": null,
   "metadata": {},
   "outputs": [],
   "source": [
    "df_fl_ckd.shape"
   ]
  },
  {
   "cell_type": "code",
   "execution_count": null,
   "metadata": {},
   "outputs": [],
   "source": [
    "df_fl_ckd"
   ]
  },
  {
   "cell_type": "code",
   "execution_count": null,
   "metadata": {},
   "outputs": [],
   "source": [
    "df_fl_ckd.loc[df_fl_ckd.duplicated()]\n"
   ]
  },
  {
   "cell_type": "code",
   "execution_count": null,
   "metadata": {},
   "outputs": [],
   "source": [
    "df_fl_ckd['Prvlnc'] \\\n",
    "    .plot(kind='kde')\n"
   ]
  }
 ],
 "metadata": {
  "kernelspec": {
   "display_name": "base",
   "language": "python",
   "name": "python3"
  },
  "language_info": {
   "codemirror_mode": {
    "name": "ipython",
    "version": 3
   },
   "file_extension": ".py",
   "mimetype": "text/x-python",
   "name": "python",
   "nbconvert_exporter": "python",
   "pygments_lexer": "ipython3",
   "version": "3.9.16"
  },
  "orig_nbformat": 4
 },
 "nbformat": 4,
 "nbformat_minor": 2
}
